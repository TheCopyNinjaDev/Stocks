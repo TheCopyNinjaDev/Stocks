{
 "cells": [
  {
   "cell_type": "code",
   "execution_count": 2,
   "metadata": {},
   "outputs": [],
   "source": [
    "import numpy as np\n",
    "import pandas as pd\n",
    "import matplotlib\n",
    "import matplotlib.pyplot as plt\n",
    "import matplotlib.ticker as ticker\n",
    "\n",
    "from orbit.models.dlt import ETSFull, DLTFull\n",
    "from orbit.diagnostics.plot import plot_predicted_data\n",
    "plt.style.use('seaborn')"
   ]
  },
  {
   "cell_type": "code",
   "execution_count": 3,
   "metadata": {
    "pycharm": {
     "name": "#%%\n"
    }
   },
   "outputs": [
    {
     "data": {
      "text/plain": "                       time   price\n0 2021-06-01 04:00:00+00:00  125.00\n1 2021-06-01 04:15:00+00:00  125.17\n2 2021-06-01 04:30:00+00:00  125.20\n3 2021-06-01 04:45:00+00:00  125.30\n4 2021-06-01 05:00:00+00:00  125.38",
      "text/html": "<div>\n<style scoped>\n    .dataframe tbody tr th:only-of-type {\n        vertical-align: middle;\n    }\n\n    .dataframe tbody tr th {\n        vertical-align: top;\n    }\n\n    .dataframe thead th {\n        text-align: right;\n    }\n</style>\n<table border=\"1\" class=\"dataframe\">\n  <thead>\n    <tr style=\"text-align: right;\">\n      <th></th>\n      <th>time</th>\n      <th>price</th>\n    </tr>\n  </thead>\n  <tbody>\n    <tr>\n      <th>0</th>\n      <td>2021-06-01 04:00:00+00:00</td>\n      <td>125.00</td>\n    </tr>\n    <tr>\n      <th>1</th>\n      <td>2021-06-01 04:15:00+00:00</td>\n      <td>125.17</td>\n    </tr>\n    <tr>\n      <th>2</th>\n      <td>2021-06-01 04:30:00+00:00</td>\n      <td>125.20</td>\n    </tr>\n    <tr>\n      <th>3</th>\n      <td>2021-06-01 04:45:00+00:00</td>\n      <td>125.30</td>\n    </tr>\n    <tr>\n      <th>4</th>\n      <td>2021-06-01 05:00:00+00:00</td>\n      <td>125.38</td>\n    </tr>\n  </tbody>\n</table>\n</div>"
     },
     "execution_count": 3,
     "metadata": {},
     "output_type": "execute_result"
    }
   ],
   "source": [
    "df = pd.read_csv(\"../data/summer.csv\", index_col=0, parse_dates=['time'], dayfirst=True)\n",
    "df.head()"
   ]
  },
  {
   "cell_type": "code",
   "execution_count": null,
   "metadata": {
    "pycharm": {
     "name": "#%%\n",
     "is_executing": true
    }
   },
   "outputs": [],
   "source": [
    "fig, ax = plt.subplots(figsize=(12, 6))\n",
    "ax.plot(df.index, df['price'])\n",
    "plt.show()"
   ]
  },
  {
   "cell_type": "code",
   "execution_count": null,
   "metadata": {
    "pycharm": {
     "name": "#%%\n",
     "is_executing": true
    }
   },
   "outputs": [],
   "source": [
    "test_size = 65\n",
    "train = df[:-test_size]\n",
    "test = df[-test_size:]\n",
    "train.dtypes"
   ]
  },
  {
   "cell_type": "code",
   "execution_count": null,
   "metadata": {
    "pycharm": {
     "name": "#%%\n",
     "is_executing": true
    }
   },
   "outputs": [],
   "source": [
    "\n",
    "ets = ETSFull(\n",
    "    response_col='price',\n",
    "    date_col='time',\n",
    "    seasonality=52,\n",
    "    seed=8888,\n",
    ")"
   ]
  },
  {
   "cell_type": "code",
   "execution_count": null,
   "metadata": {
    "pycharm": {
     "name": "#%%\n",
     "is_executing": true
    }
   },
   "outputs": [],
   "source": [
    "%%time\n",
    "\n",
    "ets.fit(train)"
   ]
  },
  {
   "cell_type": "code",
   "execution_count": null,
   "metadata": {
    "pycharm": {
     "name": "#%%\n",
     "is_executing": true
    }
   },
   "outputs": [],
   "source": [
    "predicted_df = ets.predict(test)"
   ]
  },
  {
   "cell_type": "code",
   "execution_count": null,
   "outputs": [],
   "source": [
    "predicted_df['time'] = pd.to_datetime(predicted_df['time'])\n",
    "train['time'] = pd.to_datetime(train['time'])\n",
    "predicted_df"
   ],
   "metadata": {
    "collapsed": false,
    "pycharm": {
     "name": "#%%\n",
     "is_executing": true
    }
   }
  },
  {
   "cell_type": "code",
   "execution_count": null,
   "outputs": [],
   "source": [
    "fig, ax = plt.subplots(figsize=(12, 6))\n",
    "\n",
    "ax.plot(test['time'], test['price'], c='b', label='true')\n",
    "ax.plot(test['time'], predicted_df['prediction'], c='r', label='predict')\n",
    "ax.plot(test['time'], predicted_df['prediction_5'], c='purple',label='predict_5')\n",
    "ax.plot(test['time'], predicted_df['prediction_95'], c='green',label='predict_95')\n",
    "plt.legend()\n",
    "plt.show()"
   ],
   "metadata": {
    "collapsed": false,
    "pycharm": {
     "name": "#%%\n",
     "is_executing": true
    }
   }
  }
 ],
 "metadata": {
  "kernelspec": {
   "name": "pycharm-55d4945b",
   "language": "python",
   "display_name": "PyCharm (Stocks)"
  },
  "language_info": {
   "codemirror_mode": {
    "name": "ipython",
    "version": 3
   },
   "file_extension": ".py",
   "mimetype": "text/x-python",
   "name": "python",
   "nbconvert_exporter": "python",
   "pygments_lexer": "ipython3",
   "version": "3.9.6"
  }
 },
 "nbformat": 4,
 "nbformat_minor": 1
}