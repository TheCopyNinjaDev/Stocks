{
 "cells": [
  {
   "cell_type": "markdown",
   "metadata": {},
   "source": [
    "### Подключение библиотек"
   ]
  },
  {
   "cell_type": "code",
   "execution_count": 9,
   "metadata": {},
   "outputs": [],
   "source": [
    "import asyncio\n",
    "from datetime import datetime\n",
    "\n",
    "from tinkoff.investments import (\n",
    "    CandleResolution,\n",
    "    Environment,\n",
    "    TinkoffInvestmentsRESTClient,\n",
    ")\n",
    "from tinkoff.investments.utils.historical_data import HistoricalData\n",
    "import pandas as pd"
   ]
  },
  {
   "cell_type": "markdown",
   "metadata": {},
   "source": [
    "### Функция получения свечей по тикеру \"AAPL\" "
   ]
  },
  {
   "cell_type": "code",
   "execution_count": 10,
   "metadata": {},
   "outputs": [],
   "source": [
    "TOKEN = \"t.OSXZNWhaTPOEYpt3FoCeqSegYPNtOgocRvmL0IX4c5rTQiSGP-pJ0ZHSIpmHGd5wTF_lt9P8tdW_PTSTXRIahw\"\n",
    "DATA = {}\n",
    "times = []\n",
    "price = []\n",
    "\n",
    "async def get_minute_candles():\n",
    "    # show 1 minute candles for AAPL in 1 year period of time\n",
    "    async with TinkoffInvestmentsRESTClient(\n",
    "        token=TOKEN, environment=Environment.SANDBOX\n",
    "    ) as client:\n",
    "        historical_data = HistoricalData(client)\n",
    "        async for candle in historical_data.iter_candles(\n",
    "            figi=\"BBG000B9XRY4\",\n",
    "            dt_from=datetime(2021, 6, 1),\n",
    "            dt_to=datetime(2021, 8, 29),\n",
    "            interval=CandleResolution.MIN_15,\n",
    "        ):\n",
    "            d = candle.to_dict()\n",
    "            times.append(d['time'])\n",
    "            price.append(d['c'])\n",
    "\n",
    "\n",
    "await get_minute_candles()"
   ]
  },
  {
   "cell_type": "code",
   "execution_count": 11,
   "metadata": {},
   "outputs": [
    {
     "data": {
      "text/plain": "2"
     },
     "execution_count": 11,
     "metadata": {},
     "output_type": "execute_result"
    }
   ],
   "source": [
    "DATA['time'] = times\n",
    "DATA['price'] = price\n",
    "len(DATA)"
   ]
  },
  {
   "cell_type": "code",
   "execution_count": 12,
   "metadata": {},
   "outputs": [],
   "source": [
    "df = pd.DataFrame(data=DATA, index=range(len(DATA['time'])))\n",
    "df.to_csv(\"../data/summer.csv\")"
   ]
  }
 ],
 "metadata": {
  "kernelspec": {
   "display_name": "Python 3",
   "language": "python",
   "name": "python3"
  },
  "language_info": {
   "codemirror_mode": {
    "name": "ipython",
    "version": 3
   },
   "file_extension": ".py",
   "mimetype": "text/x-python",
   "name": "python",
   "nbconvert_exporter": "python",
   "pygments_lexer": "ipython3",
   "version": "3.8.5"
  }
 },
 "nbformat": 4,
 "nbformat_minor": 4
}