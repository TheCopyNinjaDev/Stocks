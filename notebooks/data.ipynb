{
 "cells": [
  {
   "cell_type": "code",
   "execution_count": 1,
   "metadata": {},
   "outputs": [],
   "source": [
    "import numpy as np\n",
    "import pandas as pd\n",
    "import matplotlib\n",
    "import matplotlib.pyplot as plt\n",
    "import matplotlib.ticker as ticker\n",
    "\n",
    "from orbit.models.dlt import ETSFull, DLTFull\n",
    "from orbit.diagnostics.plot import plot_predicted_data\n",
    "plt.style.use('seaborn-whitegrid')"
   ]
  },
  {
   "cell_type": "code",
   "execution_count": 2,
   "metadata": {
    "pycharm": {
     "name": "#%%\n"
    }
   },
   "outputs": [],
   "source": [
    "data = pd.read_csv(\"../data/data.csv\", index_col=0)\n",
    "#data = pd.read_csv(\"../data/summer.csv\", index_col=0)"
   ]
  },
  {
   "cell_type": "code",
   "execution_count": 3,
   "metadata": {
    "pycharm": {
     "name": "#%%\n"
    }
   },
   "outputs": [
    {
     "data": {
      "text/plain": "                           time    price\n0     2019-01-02T07:00:00+00:00  39.8100\n1     2019-01-02T07:15:00+00:00  39.2350\n2     2019-01-02T07:30:00+00:00  39.3625\n3     2019-01-02T07:45:00+00:00  39.3825\n4     2019-01-02T08:00:00+00:00  39.1250\n...                         ...      ...\n2602  2019-02-28T22:15:00+00:00  43.3125\n2603  2019-02-28T22:30:00+00:00  43.3025\n2604  2019-02-28T22:45:00+00:00  43.3200\n2605  2019-02-28T23:00:00+00:00  43.3025\n2606  2019-02-28T23:15:00+00:00  43.2950\n\n[2607 rows x 2 columns]",
      "text/html": "<div>\n<style scoped>\n    .dataframe tbody tr th:only-of-type {\n        vertical-align: middle;\n    }\n\n    .dataframe tbody tr th {\n        vertical-align: top;\n    }\n\n    .dataframe thead th {\n        text-align: right;\n    }\n</style>\n<table border=\"1\" class=\"dataframe\">\n  <thead>\n    <tr style=\"text-align: right;\">\n      <th></th>\n      <th>time</th>\n      <th>price</th>\n    </tr>\n  </thead>\n  <tbody>\n    <tr>\n      <th>0</th>\n      <td>2019-01-02T07:00:00+00:00</td>\n      <td>39.8100</td>\n    </tr>\n    <tr>\n      <th>1</th>\n      <td>2019-01-02T07:15:00+00:00</td>\n      <td>39.2350</td>\n    </tr>\n    <tr>\n      <th>2</th>\n      <td>2019-01-02T07:30:00+00:00</td>\n      <td>39.3625</td>\n    </tr>\n    <tr>\n      <th>3</th>\n      <td>2019-01-02T07:45:00+00:00</td>\n      <td>39.3825</td>\n    </tr>\n    <tr>\n      <th>4</th>\n      <td>2019-01-02T08:00:00+00:00</td>\n      <td>39.1250</td>\n    </tr>\n    <tr>\n      <th>...</th>\n      <td>...</td>\n      <td>...</td>\n    </tr>\n    <tr>\n      <th>2602</th>\n      <td>2019-02-28T22:15:00+00:00</td>\n      <td>43.3125</td>\n    </tr>\n    <tr>\n      <th>2603</th>\n      <td>2019-02-28T22:30:00+00:00</td>\n      <td>43.3025</td>\n    </tr>\n    <tr>\n      <th>2604</th>\n      <td>2019-02-28T22:45:00+00:00</td>\n      <td>43.3200</td>\n    </tr>\n    <tr>\n      <th>2605</th>\n      <td>2019-02-28T23:00:00+00:00</td>\n      <td>43.3025</td>\n    </tr>\n    <tr>\n      <th>2606</th>\n      <td>2019-02-28T23:15:00+00:00</td>\n      <td>43.2950</td>\n    </tr>\n  </tbody>\n</table>\n<p>2607 rows × 2 columns</p>\n</div>"
     },
     "execution_count": 3,
     "metadata": {},
     "output_type": "execute_result"
    }
   ],
   "source": [
    "df = pd.DataFrame(data)\n",
    "df"
   ]
  },
  {
   "cell_type": "code",
   "execution_count": null,
   "metadata": {
    "pycharm": {
     "name": "#%%\n",
     "is_executing": true
    }
   },
   "outputs": [],
   "source": [
    "fig, ax = plt.subplots(figsize=(12, 6))\n",
    "ax.plot(df['time'], df['price'])\n",
    "ax.xaxis.set_major_locator(ticker.MultipleLocator(len(df['time']) / 4))\n",
    "plt.show()"
   ]
  },
  {
   "cell_type": "code",
   "execution_count": null,
   "metadata": {
    "pycharm": {
     "name": "#%%\n",
     "is_executing": true
    }
   },
   "outputs": [],
   "source": [
    "df['time'] = pd.to_datetime(df['time'])\n",
    "df['time'] = pd.to_numeric(df['time'])\n",
    "\n",
    "\n",
    "test_size = 65\n",
    "train = df[:-test_size]\n",
    "test = df[-test_size:]\n",
    "train.dtypes"
   ]
  },
  {
   "cell_type": "code",
   "execution_count": null,
   "metadata": {
    "pycharm": {
     "name": "#%%\n",
     "is_executing": true
    }
   },
   "outputs": [],
   "source": [
    "\n",
    "ets = ETSFull(\n",
    "    response_col='price',\n",
    "    date_col='time',\n",
    "    seasonality=52,\n",
    "    seed=8888,\n",
    ")"
   ]
  },
  {
   "cell_type": "code",
   "execution_count": null,
   "metadata": {
    "pycharm": {
     "name": "#%%\n",
     "is_executing": true
    }
   },
   "outputs": [],
   "source": [
    "%%time\n",
    "\n",
    "ets.fit(train)"
   ]
  },
  {
   "cell_type": "code",
   "execution_count": null,
   "metadata": {
    "pycharm": {
     "name": "#%%\n",
     "is_executing": true
    }
   },
   "outputs": [],
   "source": [
    "predicted_df = ets.predict(test)"
   ]
  },
  {
   "cell_type": "code",
   "execution_count": null,
   "outputs": [],
   "source": [
    "predicted_df['time'] = pd.to_datetime(predicted_df['time'])\n",
    "train['time'] = pd.to_datetime(train['time'])\n",
    "predicted_df"
   ],
   "metadata": {
    "collapsed": false,
    "pycharm": {
     "name": "#%%\n",
     "is_executing": true
    }
   }
  },
  {
   "cell_type": "code",
   "execution_count": null,
   "outputs": [],
   "source": [
    "fig, ax = plt.subplots(figsize=(12, 6))\n",
    "\n",
    "ax.plot(test['time'], test['price'], c='b', label='true')\n",
    "ax.plot(test['time'], predicted_df['prediction'], c='r', label='predict')\n",
    "ax.plot(test['time'], predicted_df['prediction_5'], c='purple',label='predict_5')\n",
    "ax.plot(test['time'], predicted_df['prediction_95'], c='green',label='predict_95')\n",
    "plt.legend()\n",
    "plt.show()"
   ],
   "metadata": {
    "collapsed": false,
    "pycharm": {
     "name": "#%%\n",
     "is_executing": true
    }
   }
  },
  {
   "cell_type": "code",
   "execution_count": null,
   "outputs": [],
   "source": [
    "dlt = DLTFull(response_col='price', date_col='time')"
   ],
   "metadata": {
    "collapsed": false,
    "pycharm": {
     "name": "#%%\n",
     "is_executing": true
    }
   }
  },
  {
   "cell_type": "code",
   "execution_count": null,
   "outputs": [],
   "source": [
    "%%time\n",
    "\n",
    "dlt.fit(train)\n"
   ],
   "metadata": {
    "collapsed": false,
    "pycharm": {
     "name": "#%%\n",
     "is_executing": true
    }
   }
  },
  {
   "cell_type": "code",
   "execution_count": null,
   "outputs": [],
   "source": [
    "predicted_df = ets.predict(test)"
   ],
   "metadata": {
    "collapsed": false,
    "pycharm": {
     "name": "#%%\n",
     "is_executing": true
    }
   }
  },
  {
   "cell_type": "code",
   "execution_count": null,
   "outputs": [],
   "source": [
    "predicted_df['time'] = pd.to_datetime(predicted_df['time'])\n",
    "train['time'] = pd.to_datetime(train['time'])\n",
    "train"
   ],
   "metadata": {
    "collapsed": false,
    "pycharm": {
     "name": "#%%\n",
     "is_executing": true
    }
   }
  },
  {
   "cell_type": "code",
   "execution_count": null,
   "outputs": [],
   "source": [
    "fig, ax = plt.subplots(figsize=(12, 6))\n",
    "\n",
    "ax.plot(test['time'], test['price'], c='b', label='true')\n",
    "ax.plot(test['time'], predicted_df['prediction'], c='r', label='predict')\n",
    "ax.plot(test['time'], predicted_df['prediction_5'], c='purple',label='predict_5')\n",
    "ax.plot(test['time'], predicted_df['prediction_95'], c='green',label='predict_95')\n",
    "plt.legend()\n",
    "plt.show()\n",
    "\n"
   ],
   "metadata": {
    "collapsed": false,
    "pycharm": {
     "name": "#%%\n",
     "is_executing": true
    }
   }
  }
 ],
 "metadata": {
  "kernelspec": {
   "name": "pycharm-55d4945b",
   "language": "python",
   "display_name": "PyCharm (Stocks)"
  },
  "language_info": {
   "codemirror_mode": {
    "name": "ipython",
    "version": 3
   },
   "file_extension": ".py",
   "mimetype": "text/x-python",
   "name": "python",
   "nbconvert_exporter": "python",
   "pygments_lexer": "ipython3",
   "version": "3.9.6"
  }
 },
 "nbformat": 4,
 "nbformat_minor": 1
}